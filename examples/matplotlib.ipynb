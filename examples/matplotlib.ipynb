{
 "cells": [
  {
   "cell_type": "code",
   "execution_count": null,
   "metadata": {},
   "outputs": [],
   "source": [
    "import pandas as pd"
   ]
  },
  {
   "cell_type": "code",
   "execution_count": null,
   "metadata": {},
   "outputs": [],
   "source": [
    "base = pd.read_csv('quantitativo_alunos_graduacao.csv', encoding='latin1')"
   ]
  },
  {
   "cell_type": "code",
   "execution_count": null,
   "metadata": {},
   "outputs": [],
   "source": [
    "base.head()"
   ]
  },
  {
   "cell_type": "code",
   "execution_count": null,
   "metadata": {},
   "outputs": [],
   "source": [
    "s = str(base.iloc[0])"
   ]
  },
  {
   "cell_type": "code",
   "execution_count": null,
   "metadata": {},
   "outputs": [],
   "source": [
    "d_columns = s.split('    ')[0].split(';')"
   ]
  },
  {
   "cell_type": "code",
   "execution_count": null,
   "metadata": {},
   "outputs": [],
   "source": [
    "xd = pd.DataFrame(columns=d_columns)"
   ]
  },
  {
   "cell_type": "code",
   "execution_count": null,
   "metadata": {},
   "outputs": [],
   "source": [
    "for i in range(len(base)):\n",
    "    s = str(base.iloc[i])\n",
    "    s = s.split('    ')[1].split('\\n')[0].split(';')\n",
    "    if len(s) == len(d_columns):\n",
    "        xd.loc[i] = s"
   ]
  },
  {
   "cell_type": "code",
   "execution_count": 66,
   "metadata": {},
   "outputs": [
    {
     "data": {
      "text/html": [
       "<div>\n",
       "<style scoped>\n",
       "    .dataframe tbody tr th:only-of-type {\n",
       "        vertical-align: middle;\n",
       "    }\n",
       "\n",
       "    .dataframe tbody tr th {\n",
       "        vertical-align: top;\n",
       "    }\n",
       "\n",
       "    .dataframe thead th {\n",
       "        text-align: right;\n",
       "    }\n",
       "</style>\n",
       "<table border=\"1\" class=\"dataframe\">\n",
       "  <thead>\n",
       "    <tr style=\"text-align: right;\">\n",
       "      <th></th>\n",
       "      <th>CodCurso</th>\n",
       "      <th>NomeCurso</th>\n",
       "      <th>Ano</th>\n",
       "      <th>Periodo</th>\n",
       "      <th>Vinculados</th>\n",
       "      <th>Matriculados</th>\n",
       "      <th>Ingressantes</th>\n",
       "      <th>Diplomados</th>\n",
       "      <th>Evadidos</th>\n",
       "    </tr>\n",
       "  </thead>\n",
       "  <tbody>\n",
       "    <tr>\n",
       "      <th>0</th>\n",
       "      <td>298</td>\n",
       "      <td>ADMINISTRAÇÃO</td>\n",
       "      <td>2010</td>\n",
       "      <td>1</td>\n",
       "      <td>1501</td>\n",
       "      <td>1337</td>\n",
       "      <td>166</td>\n",
       "      <td>91</td>\n",
       "      <td>24</td>\n",
       "    </tr>\n",
       "    <tr>\n",
       "      <th>1</th>\n",
       "      <td>583</td>\n",
       "      <td>ADMINISTRAÇÃO - EAD</td>\n",
       "      <td>2010</td>\n",
       "      <td>1</td>\n",
       "      <td>351</td>\n",
       "      <td>345</td>\n",
       "      <td>0</td>\n",
       "      <td>0</td>\n",
       "      <td>6</td>\n",
       "    </tr>\n",
       "    <tr>\n",
       "      <th>2</th>\n",
       "      <td>299</td>\n",
       "      <td>AGRONOMIA</td>\n",
       "      <td>2010</td>\n",
       "      <td>1</td>\n",
       "      <td>495</td>\n",
       "      <td>441</td>\n",
       "      <td>47</td>\n",
       "      <td>31</td>\n",
       "      <td>20</td>\n",
       "    </tr>\n",
       "    <tr>\n",
       "      <th>4</th>\n",
       "      <td>301</td>\n",
       "      <td>ARQUIVOLOGIA</td>\n",
       "      <td>2010</td>\n",
       "      <td>1</td>\n",
       "      <td>157</td>\n",
       "      <td>134</td>\n",
       "      <td>30</td>\n",
       "      <td>4</td>\n",
       "      <td>6</td>\n",
       "    </tr>\n",
       "    <tr>\n",
       "      <th>5</th>\n",
       "      <td>303</td>\n",
       "      <td>ARTES VISUAIS</td>\n",
       "      <td>2010</td>\n",
       "      <td>1</td>\n",
       "      <td>593</td>\n",
       "      <td>498</td>\n",
       "      <td>81</td>\n",
       "      <td>37</td>\n",
       "      <td>19</td>\n",
       "    </tr>\n",
       "  </tbody>\n",
       "</table>\n",
       "</div>"
      ],
      "text/plain": [
       "  CodCurso            NomeCurso   Ano Periodo Vinculados Matriculados  \\\n",
       "0      298        ADMINISTRAÇÃO  2010       1       1501         1337   \n",
       "1      583  ADMINISTRAÇÃO - EAD  2010       1        351          345   \n",
       "2      299            AGRONOMIA  2010       1        495          441   \n",
       "4      301         ARQUIVOLOGIA  2010       1        157          134   \n",
       "5      303        ARTES VISUAIS  2010       1        593          498   \n",
       "\n",
       "  Ingressantes Diplomados Evadidos  \n",
       "0          166         91       24  \n",
       "1            0          0        6  \n",
       "2           47         31       20  \n",
       "4           30          4        6  \n",
       "5           81         37       19  "
      ]
     },
     "execution_count": 66,
     "metadata": {},
     "output_type": "execute_result"
    }
   ],
   "source": [
    "xd.head()"
   ]
  },
  {
   "cell_type": "code",
   "execution_count": 93,
   "metadata": {},
   "outputs": [],
   "source": [
    "import numpy as np\n",
    "import matplotlib.pyplot as plt"
   ]
  },
  {
   "cell_type": "code",
   "execution_count": 94,
   "metadata": {},
   "outputs": [],
   "source": [
    "x_label = []\n",
    "x1_plt = []\n",
    "x2_plt = []\n",
    "for i in range(8):\n",
    "    l = list(xd.iloc[i])\n",
    "    if int(l[6]) != 0:\n",
    "        x_label.append(l[1][0:3])\n",
    "        x1_plt.append(int(l[6]))\n",
    "        x2_plt.append(int(l[7]))"
   ]
  },
  {
   "cell_type": "code",
   "execution_count": 95,
   "metadata": {},
   "outputs": [
    {
     "data": {
      "image/png": "[encoded data removed]",
      "text/plain": [
       "<Figure size 432x288 with 1 Axes>"
      ]
     },
     "metadata": {
      "needs_background": "light"
     },
     "output_type": "display_data"
    }
   ],
   "source": [
    "ind = np.arange(len(x1_plt))  # the x locations for the groups\n",
    "width = 0.35  # the width of the bars\n",
    "\n",
    "fig, ax = plt.subplots()\n",
    "rects1 = ax.bar(ind - width/2, x1_plt, width, color='SkyBlue', label='Ingressantes')\n",
    "rects2 = ax.bar(ind + width/2, x2_plt, width, color='IndianRed', label='Diplomados')\n",
    "\n",
    "# Add some text for labels, title and custom x-axis tick labels, etc.\n",
    "ax.set_ylabel('Total')\n",
    "ax.set_title('Ingressantes e diplomados por curso')\n",
    "ax.set_xticks(ind)\n",
    "ax.set_xticklabels(x_label)\n",
    "ax.legend()\n",
    "\n",
    "autolabel(rects1, \"left\")\n",
    "autolabel(rects2, \"right\")\n",
    "\n",
    "plt.show()"
   ]
  }
 ],
 "metadata": {
  "kernelspec": {
   "display_name": "Python 3",
   "language": "python",
   "name": "python3"
  },
  "language_info": {
   "codemirror_mode": {
    "name": "ipython",
    "version": 3
   },
   "file_extension": ".py",
   "mimetype": "text/x-python",
   "name": "python",
   "nbconvert_exporter": "python",
   "pygments_lexer": "ipython3",
   "version": "3.6.8"
  }
 },
 "nbformat": 4,
 "nbformat_minor": 2
}
