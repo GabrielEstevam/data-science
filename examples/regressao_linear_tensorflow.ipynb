{
 "cells": [
  {
   "cell_type": "code",
   "execution_count": 43,
   "metadata": {},
   "outputs": [],
   "source": [
    "import pandas as pd\n",
    "import numpy as np\n",
    "import matplotlib.pyplot as plt\n",
    "import tensorflow as tf\n",
    "%matplotlib inline"
   ]
  },
  {
   "cell_type": "code",
   "execution_count": 44,
   "metadata": {},
   "outputs": [],
   "source": [
    "base = pd.read_csv('analfabetos15a24br.csv')"
   ]
  },
  {
   "cell_type": "code",
   "execution_count": 45,
   "metadata": {},
   "outputs": [],
   "source": [
    "s = str(base.iloc[0])\n",
    "lista = s.split()"
   ]
  },
  {
   "cell_type": "code",
   "execution_count": 205,
   "metadata": {},
   "outputs": [],
   "source": [
    "xs = []\n",
    "ys = []"
   ]
  },
  {
   "cell_type": "code",
   "execution_count": 206,
   "metadata": {},
   "outputs": [],
   "source": [
    "for i in range(len(lista)):\n",
    "    if len(lista[i]) == 4:\n",
    "        try:\n",
    "            xs.append(int(lista[i]))\n",
    "        except:\n",
    "            continue\n",
    "    else:\n",
    "        try:\n",
    "            ys.append(float(lista[i]))\n",
    "        except:\n",
    "            continue"
   ]
  },
  {
   "cell_type": "code",
   "execution_count": 210,
   "metadata": {},
   "outputs": [],
   "source": [
    "max_x = max(xs)\n",
    "min_x = min(xs)\n",
    "for i in range(len(xs)):\n",
    "    xs[i] = (xs[i] - min_x) / (max_x - min_x)"
   ]
  },
  {
   "cell_type": "code",
   "execution_count": 211,
   "metadata": {
    "scrolled": true
   },
   "outputs": [
    {
     "data": {
      "text/plain": [
       "[<matplotlib.lines.Line2D at 0x7f4d54232940>]"
      ]
     },
     "execution_count": 211,
     "metadata": {},
     "output_type": "execute_result"
    },
    {
     "data": {
      "image/png": "[encoded data removed]",
      "text/plain": [
       "<Figure size 432x288 with 1 Axes>"
      ]
     },
     "metadata": {
      "needs_background": "light"
     },
     "output_type": "display_data"
    }
   ],
   "source": [
    "plt.plot(xs, ys, '*')"
   ]
  },
  {
   "cell_type": "code",
   "execution_count": 212,
   "metadata": {},
   "outputs": [],
   "source": [
    "x_train = np.asarray(np.zeros(25))\n",
    "x_test = np.asarray(np.zeros(5))\n",
    "y_train = np.asarray(np.zeros(25))\n",
    "y_test = np.asarray(np.zeros(5))"
   ]
  },
  {
   "cell_type": "code",
   "execution_count": 213,
   "metadata": {},
   "outputs": [],
   "source": [
    "for i in range(25):\n",
    "    x_train[i] = xs[i]\n",
    "    y_train[i] = ys[i]\n",
    "for i in range(25, 30):\n",
    "    x_test[i-25] = xs[i]\n",
    "    y_test[i-25] = ys[i]"
   ]
  },
  {
   "cell_type": "code",
   "execution_count": 219,
   "metadata": {},
   "outputs": [],
   "source": [
    "learning_rate = 0.01\n",
    "training_epochs = 5000\n",
    "display_step = 100\n",
    "n_samples = 25"
   ]
  },
  {
   "cell_type": "code",
   "execution_count": 220,
   "metadata": {},
   "outputs": [
    {
     "data": {
      "text/plain": [
       "array([0.        , 0.03030303, 0.06060606, 0.09090909, 0.12121212,\n",
       "       0.15151515, 0.18181818, 0.21212121, 0.24242424, 0.27272727,\n",
       "       0.33333333, 0.36363636, 0.42424242, 0.45454545, 0.48484848,\n",
       "       0.51515152, 0.54545455, 0.60606061, 0.63636364, 0.66666667,\n",
       "       0.6969697 , 0.72727273, 0.75757576, 0.78787879, 0.81818182])"
      ]
     },
     "execution_count": 220,
     "metadata": {},
     "output_type": "execute_result"
    }
   ],
   "source": [
    "x_train"
   ]
  },
  {
   "cell_type": "code",
   "execution_count": 221,
   "metadata": {},
   "outputs": [],
   "source": [
    "x = tf.placeholder(tf.float32)\n",
    "y = tf.placeholder(tf.float32)"
   ]
  },
  {
   "cell_type": "code",
   "execution_count": 222,
   "metadata": {},
   "outputs": [],
   "source": [
    "a = tf.Variable(np.random.randn(), name='a')\n",
    "b = tf.Variable(np.random.randn(), name='b')"
   ]
  },
  {
   "cell_type": "code",
   "execution_count": 223,
   "metadata": {},
   "outputs": [],
   "source": [
    "linear_model = a*x + b\n",
    "cost = tf.reduce_sum(tf.square(linear_model - y) / (2*n_samples))\n",
    "optimizer = tf.train.GradientDescentOptimizer(learning_rate).minimize(cost)"
   ]
  },
  {
   "cell_type": "code",
   "execution_count": 224,
   "metadata": {},
   "outputs": [
    {
     "name": "stdout",
     "output_type": "stream",
     "text": [
      "Epoca 100  - custo 9.403546\n",
      "Epoca 200  - custo 6.651854\n",
      "Epoca 300  - custo 5.790243\n",
      "Epoca 400  - custo 5.169805\n",
      "Epoca 500  - custo 4.62895\n",
      "Epoca 600  - custo 4.1464925\n",
      "Epoca 700  - custo 3.7150686\n",
      "Epoca 800  - custo 3.3291821\n",
      "Epoca 900  - custo 2.9840162\n",
      "Epoca 1000  - custo 2.6752727\n",
      "Epoca 1100  - custo 2.3991082\n",
      "Epoca 1200  - custo 2.1520858\n",
      "Epoca 1300  - custo 1.9311295\n",
      "Epoca 1400  - custo 1.7334898\n",
      "Epoca 1500  - custo 1.5567048\n",
      "Epoca 1600  - custo 1.3985744\n",
      "Epoca 1700  - custo 1.2571317\n",
      "Epoca 1800  - custo 1.1306136\n",
      "Epoca 1900  - custo 1.0174452\n",
      "Epoca 2000  - custo 0.91621906\n",
      "Epoca 2100  - custo 0.8256746\n",
      "Epoca 2200  - custo 0.7446839\n",
      "Epoca 2300  - custo 0.67224085\n",
      "Epoca 2400  - custo 0.60744166\n",
      "Epoca 2500  - custo 0.54947996\n",
      "Epoca 2600  - custo 0.49763474\n",
      "Epoca 2700  - custo 0.45126003\n",
      "Epoca 2800  - custo 0.40977892\n",
      "Epoca 2900  - custo 0.3726759\n",
      "Epoca 3000  - custo 0.3394875\n",
      "Epoca 3100  - custo 0.3098015\n",
      "Epoca 3200  - custo 0.28324792\n",
      "Epoca 3300  - custo 0.25949615\n",
      "Epoca 3400  - custo 0.23825112\n",
      "Epoca 3500  - custo 0.21924756\n",
      "Epoca 3600  - custo 0.20224899\n",
      "Epoca 3700  - custo 0.18704471\n",
      "Epoca 3800  - custo 0.17344452\n",
      "Epoca 3900  - custo 0.1612793\n",
      "Epoca 4000  - custo 0.15039787\n",
      "Epoca 4100  - custo 0.14066473\n",
      "Epoca 4200  - custo 0.13195775\n",
      "Epoca 4300  - custo 0.12417075\n",
      "Epoca 4400  - custo 0.11720514\n",
      "Epoca 4500  - custo 0.11097441\n",
      "Epoca 4600  - custo 0.10540126\n",
      "Epoca 4700  - custo 0.100416295\n",
      "Epoca 4800  - custo 0.09595729\n",
      "Epoca 4900  - custo 0.09196899\n",
      "Epoca 5000  - custo 0.0884014\n",
      "Final 5000  - custo 0.0884014\n",
      "a: -12.786636\n",
      "b: 12.444066\n"
     ]
    }
   ],
   "source": [
    "init = tf.global_variables_initializer()\n",
    "with tf.Session() as sess:\n",
    "    sess.run(init)\n",
    "    for epoch in range(training_epochs):\n",
    "        sess.run(optimizer, feed_dict={x: x_train, y: y_train})\n",
    "        if (epoch+1) % display_step == 0:\n",
    "            c = sess.run(cost, feed_dict={x: x_train, y: y_train})\n",
    "            print(\"Epoca\", str(epoch+1), \" - custo\", c)\n",
    "    c = sess.run(cost, feed_dict={x: x_train, y: y_train})\n",
    "    print(\"Final\", training_epochs, \" - custo\", c)\n",
    "    print('a:', sess.run(a))\n",
    "    print('b:', sess.run(b))"
   ]
  },
  {
   "cell_type": "code",
   "execution_count": 225,
   "metadata": {},
   "outputs": [],
   "source": [
    "x_plot = np.linspace(min(xs), max(xs), 30)"
   ]
  },
  {
   "cell_type": "code",
   "execution_count": 226,
   "metadata": {},
   "outputs": [],
   "source": [
    "y_plot =  12.444 - 12.786*x_plot"
   ]
  },
  {
   "cell_type": "code",
   "execution_count": 227,
   "metadata": {},
   "outputs": [
    {
     "data": {
      "text/plain": [
       "[<matplotlib.lines.Line2D at 0x7f4d541cd940>]"
      ]
     },
     "execution_count": 227,
     "metadata": {},
     "output_type": "execute_result"
    },
    {
     "data": {
      "image/png": "[encoded data removed]",
      "text/plain": [
       "<Figure size 432x288 with 1 Axes>"
      ]
     },
     "metadata": {
      "needs_background": "light"
     },
     "output_type": "display_data"
    }
   ],
   "source": [
    "plt.scatter(xs, ys)\n",
    "plt.plot(x_plot, y_plot, color='red')"
   ]
  }
 ],
 "metadata": {
  "kernelspec": {
   "display_name": "Python 3",
   "language": "python",
   "name": "python3"
  },
  "language_info": {
   "codemirror_mode": {
    "name": "ipython",
    "version": 3
   },
   "file_extension": ".py",
   "mimetype": "text/x-python",
   "name": "python",
   "nbconvert_exporter": "python",
   "pygments_lexer": "ipython3",
   "version": "3.6.8"
  }
 },
 "nbformat": 4,
 "nbformat_minor": 2
}
